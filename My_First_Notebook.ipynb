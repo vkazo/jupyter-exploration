{
  "nbformat": 4,
  "nbformat_minor": 0,
  "metadata": {
    "colab": {
      "provenance": []
    },
    "kernelspec": {
      "name": "python3",
      "display_name": "Python 3"
    },
    "language_info": {
      "name": "python"
    }
  },
  "cells": [
    {
      "cell_type": "markdown",
      "source": [
        "## My first markdown cell in Jupyter\n",
        "This is part of Lab 001 for ITAI 2373."
      ],
      "metadata": {
        "id": "PACS5wOOaCIE"
      }
    },
    {
      "cell_type": "code",
      "source": [
        "print(\"Hello, World!\")"
      ],
      "metadata": {
        "colab": {
          "base_uri": "https://localhost:8080/"
        },
        "id": "rDjPx6Z6aMJJ",
        "outputId": "64ecdaae-c6d7-407e-adf1-5f488e7c257d"
      },
      "execution_count": 2,
      "outputs": [
        {
          "output_type": "stream",
          "name": "stdout",
          "text": [
            "Hello, World!\n"
          ]
        }
      ]
    },
    {
      "cell_type": "code",
      "source": [],
      "metadata": {
        "id": "GrWk6dw1aWxZ"
      },
      "execution_count": null,
      "outputs": []
    }
  ]
}